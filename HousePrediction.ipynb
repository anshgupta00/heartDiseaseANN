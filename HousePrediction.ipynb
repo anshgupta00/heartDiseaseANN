{
 "cells": [
  {
   "cell_type": "markdown",
   "id": "dea5dc3a-71ac-48cc-96e3-60044f569d8a",
   "metadata": {},
   "source": [
    "# Advance House Price Prediction Using Pytorch"
   ]
  },
  {
   "cell_type": "code",
   "execution_count": 1,
   "id": "1277ae00-2462-4ce1-bffb-734af8c1b965",
   "metadata": {},
   "outputs": [],
   "source": [
    "import pandas as pd\n",
    "import numpy as np"
   ]
  },
  {
   "cell_type": "code",
   "execution_count": 2,
   "id": "f489be11-08fc-4623-a5d5-d2a396ace58a",
   "metadata": {},
   "outputs": [],
   "source": [
    "df=pd.read_csv(\"houseprice.csv\",usecols=[\"SalePrice\",\"MSSubClass\",\"MSZoning\",\n",
    "                                        \"LotFrontage\",\"LotArea\",\"Street\",\"YearBuilt\",\"LotShape\",\"1stFlrSF\",\n",
    "                                        \"2ndFlrSF\"]).dropna()"
   ]
  },
  {
   "cell_type": "code",
   "execution_count": 3,
   "id": "4f1b0a40-8891-4a58-bb66-5a74a304c7f0",
   "metadata": {},
   "outputs": [
    {
     "data": {
      "text/plain": [
       "(1201, 10)"
      ]
     },
     "execution_count": 3,
     "metadata": {},
     "output_type": "execute_result"
    }
   ],
   "source": [
    "df.shape"
   ]
  },
  {
   "cell_type": "code",
   "execution_count": 4,
   "id": "dc5f8398-10bf-4629-bf9d-ec4f4aa7ce97",
   "metadata": {},
   "outputs": [
    {
     "data": {
      "text/html": [
       "<div>\n",
       "<style scoped>\n",
       "    .dataframe tbody tr th:only-of-type {\n",
       "        vertical-align: middle;\n",
       "    }\n",
       "\n",
       "    .dataframe tbody tr th {\n",
       "        vertical-align: top;\n",
       "    }\n",
       "\n",
       "    .dataframe thead th {\n",
       "        text-align: right;\n",
       "    }\n",
       "</style>\n",
       "<table border=\"1\" class=\"dataframe\">\n",
       "  <thead>\n",
       "    <tr style=\"text-align: right;\">\n",
       "      <th></th>\n",
       "      <th>MSSubClass</th>\n",
       "      <th>MSZoning</th>\n",
       "      <th>LotFrontage</th>\n",
       "      <th>LotArea</th>\n",
       "      <th>Street</th>\n",
       "      <th>LotShape</th>\n",
       "      <th>YearBuilt</th>\n",
       "      <th>1stFlrSF</th>\n",
       "      <th>2ndFlrSF</th>\n",
       "      <th>SalePrice</th>\n",
       "    </tr>\n",
       "  </thead>\n",
       "  <tbody>\n",
       "    <tr>\n",
       "      <th>0</th>\n",
       "      <td>60</td>\n",
       "      <td>RL</td>\n",
       "      <td>65.0</td>\n",
       "      <td>8450</td>\n",
       "      <td>Pave</td>\n",
       "      <td>Reg</td>\n",
       "      <td>2003</td>\n",
       "      <td>856</td>\n",
       "      <td>854</td>\n",
       "      <td>208500</td>\n",
       "    </tr>\n",
       "    <tr>\n",
       "      <th>1</th>\n",
       "      <td>20</td>\n",
       "      <td>RL</td>\n",
       "      <td>80.0</td>\n",
       "      <td>9600</td>\n",
       "      <td>Pave</td>\n",
       "      <td>Reg</td>\n",
       "      <td>1976</td>\n",
       "      <td>1262</td>\n",
       "      <td>0</td>\n",
       "      <td>181500</td>\n",
       "    </tr>\n",
       "    <tr>\n",
       "      <th>2</th>\n",
       "      <td>60</td>\n",
       "      <td>RL</td>\n",
       "      <td>68.0</td>\n",
       "      <td>11250</td>\n",
       "      <td>Pave</td>\n",
       "      <td>IR1</td>\n",
       "      <td>2001</td>\n",
       "      <td>920</td>\n",
       "      <td>866</td>\n",
       "      <td>223500</td>\n",
       "    </tr>\n",
       "    <tr>\n",
       "      <th>3</th>\n",
       "      <td>70</td>\n",
       "      <td>RL</td>\n",
       "      <td>60.0</td>\n",
       "      <td>9550</td>\n",
       "      <td>Pave</td>\n",
       "      <td>IR1</td>\n",
       "      <td>1915</td>\n",
       "      <td>961</td>\n",
       "      <td>756</td>\n",
       "      <td>140000</td>\n",
       "    </tr>\n",
       "    <tr>\n",
       "      <th>4</th>\n",
       "      <td>60</td>\n",
       "      <td>RL</td>\n",
       "      <td>84.0</td>\n",
       "      <td>14260</td>\n",
       "      <td>Pave</td>\n",
       "      <td>IR1</td>\n",
       "      <td>2000</td>\n",
       "      <td>1145</td>\n",
       "      <td>1053</td>\n",
       "      <td>250000</td>\n",
       "    </tr>\n",
       "  </tbody>\n",
       "</table>\n",
       "</div>"
      ],
      "text/plain": [
       "   MSSubClass MSZoning  LotFrontage  LotArea Street LotShape  YearBuilt  \\\n",
       "0          60       RL         65.0     8450   Pave      Reg       2003   \n",
       "1          20       RL         80.0     9600   Pave      Reg       1976   \n",
       "2          60       RL         68.0    11250   Pave      IR1       2001   \n",
       "3          70       RL         60.0     9550   Pave      IR1       1915   \n",
       "4          60       RL         84.0    14260   Pave      IR1       2000   \n",
       "\n",
       "   1stFlrSF  2ndFlrSF  SalePrice  \n",
       "0       856       854     208500  \n",
       "1      1262         0     181500  \n",
       "2       920       866     223500  \n",
       "3       961       756     140000  \n",
       "4      1145      1053     250000  "
      ]
     },
     "execution_count": 4,
     "metadata": {},
     "output_type": "execute_result"
    }
   ],
   "source": [
    "df.head()"
   ]
  },
  {
   "cell_type": "code",
   "execution_count": 5,
   "id": "ed5b3920-4120-42ce-872d-896daf67e1cd",
   "metadata": {},
   "outputs": [
    {
     "name": "stdout",
     "output_type": "stream",
     "text": [
      "<class 'pandas.core.frame.DataFrame'>\n",
      "Index: 1201 entries, 0 to 1459\n",
      "Data columns (total 10 columns):\n",
      " #   Column       Non-Null Count  Dtype  \n",
      "---  ------       --------------  -----  \n",
      " 0   MSSubClass   1201 non-null   int64  \n",
      " 1   MSZoning     1201 non-null   object \n",
      " 2   LotFrontage  1201 non-null   float64\n",
      " 3   LotArea      1201 non-null   int64  \n",
      " 4   Street       1201 non-null   object \n",
      " 5   LotShape     1201 non-null   object \n",
      " 6   YearBuilt    1201 non-null   int64  \n",
      " 7   1stFlrSF     1201 non-null   int64  \n",
      " 8   2ndFlrSF     1201 non-null   int64  \n",
      " 9   SalePrice    1201 non-null   int64  \n",
      "dtypes: float64(1), int64(6), object(3)\n",
      "memory usage: 103.2+ KB\n"
     ]
    }
   ],
   "source": [
    "df.info()"
   ]
  },
  {
   "cell_type": "code",
   "execution_count": 6,
   "id": "feeb6b0f-f491-486e-a320-57a4cde397ae",
   "metadata": {},
   "outputs": [
    {
     "name": "stdout",
     "output_type": "stream",
     "text": [
      "Column name MSSubClass and unique values are 15\n",
      "Column name MSZoning and unique values are 5\n",
      "Column name LotFrontage and unique values are 110\n",
      "Column name LotArea and unique values are 869\n",
      "Column name Street and unique values are 2\n",
      "Column name LotShape and unique values are 4\n",
      "Column name YearBuilt and unique values are 112\n",
      "Column name 1stFlrSF and unique values are 678\n",
      "Column name 2ndFlrSF and unique values are 368\n",
      "Column name SalePrice and unique values are 597\n"
     ]
    }
   ],
   "source": [
    "for i in df.columns:\n",
    "    print(\"Column name {} and unique values are {}\".format(i,len(df[i].unique())))"
   ]
  },
  {
   "cell_type": "code",
   "execution_count": 7,
   "id": "f4584df7-bce5-40e4-b54c-fed8573695e1",
   "metadata": {},
   "outputs": [],
   "source": [
    "# chossingc categorical values of columns having less unique values:\n",
    "import datetime\n",
    "yearNow=datetime.datetime.now().year"
   ]
  },
  {
   "cell_type": "code",
   "execution_count": 8,
   "id": "7a9d8479-f6cf-4e51-a583-d41a7ddc41b2",
   "metadata": {},
   "outputs": [],
   "source": [
    "df[\"Total Years\"]=yearNow-df[\"YearBuilt\"]"
   ]
  },
  {
   "cell_type": "code",
   "execution_count": 9,
   "id": "a3faf323-b29b-4382-b32f-be7420c85d2f",
   "metadata": {},
   "outputs": [
    {
     "data": {
      "text/html": [
       "<div>\n",
       "<style scoped>\n",
       "    .dataframe tbody tr th:only-of-type {\n",
       "        vertical-align: middle;\n",
       "    }\n",
       "\n",
       "    .dataframe tbody tr th {\n",
       "        vertical-align: top;\n",
       "    }\n",
       "\n",
       "    .dataframe thead th {\n",
       "        text-align: right;\n",
       "    }\n",
       "</style>\n",
       "<table border=\"1\" class=\"dataframe\">\n",
       "  <thead>\n",
       "    <tr style=\"text-align: right;\">\n",
       "      <th></th>\n",
       "      <th>MSSubClass</th>\n",
       "      <th>MSZoning</th>\n",
       "      <th>LotFrontage</th>\n",
       "      <th>LotArea</th>\n",
       "      <th>Street</th>\n",
       "      <th>LotShape</th>\n",
       "      <th>YearBuilt</th>\n",
       "      <th>1stFlrSF</th>\n",
       "      <th>2ndFlrSF</th>\n",
       "      <th>SalePrice</th>\n",
       "      <th>Total Years</th>\n",
       "    </tr>\n",
       "  </thead>\n",
       "  <tbody>\n",
       "    <tr>\n",
       "      <th>0</th>\n",
       "      <td>60</td>\n",
       "      <td>RL</td>\n",
       "      <td>65.0</td>\n",
       "      <td>8450</td>\n",
       "      <td>Pave</td>\n",
       "      <td>Reg</td>\n",
       "      <td>2003</td>\n",
       "      <td>856</td>\n",
       "      <td>854</td>\n",
       "      <td>208500</td>\n",
       "      <td>22</td>\n",
       "    </tr>\n",
       "    <tr>\n",
       "      <th>1</th>\n",
       "      <td>20</td>\n",
       "      <td>RL</td>\n",
       "      <td>80.0</td>\n",
       "      <td>9600</td>\n",
       "      <td>Pave</td>\n",
       "      <td>Reg</td>\n",
       "      <td>1976</td>\n",
       "      <td>1262</td>\n",
       "      <td>0</td>\n",
       "      <td>181500</td>\n",
       "      <td>49</td>\n",
       "    </tr>\n",
       "    <tr>\n",
       "      <th>2</th>\n",
       "      <td>60</td>\n",
       "      <td>RL</td>\n",
       "      <td>68.0</td>\n",
       "      <td>11250</td>\n",
       "      <td>Pave</td>\n",
       "      <td>IR1</td>\n",
       "      <td>2001</td>\n",
       "      <td>920</td>\n",
       "      <td>866</td>\n",
       "      <td>223500</td>\n",
       "      <td>24</td>\n",
       "    </tr>\n",
       "    <tr>\n",
       "      <th>3</th>\n",
       "      <td>70</td>\n",
       "      <td>RL</td>\n",
       "      <td>60.0</td>\n",
       "      <td>9550</td>\n",
       "      <td>Pave</td>\n",
       "      <td>IR1</td>\n",
       "      <td>1915</td>\n",
       "      <td>961</td>\n",
       "      <td>756</td>\n",
       "      <td>140000</td>\n",
       "      <td>110</td>\n",
       "    </tr>\n",
       "    <tr>\n",
       "      <th>4</th>\n",
       "      <td>60</td>\n",
       "      <td>RL</td>\n",
       "      <td>84.0</td>\n",
       "      <td>14260</td>\n",
       "      <td>Pave</td>\n",
       "      <td>IR1</td>\n",
       "      <td>2000</td>\n",
       "      <td>1145</td>\n",
       "      <td>1053</td>\n",
       "      <td>250000</td>\n",
       "      <td>25</td>\n",
       "    </tr>\n",
       "  </tbody>\n",
       "</table>\n",
       "</div>"
      ],
      "text/plain": [
       "   MSSubClass MSZoning  LotFrontage  LotArea Street LotShape  YearBuilt  \\\n",
       "0          60       RL         65.0     8450   Pave      Reg       2003   \n",
       "1          20       RL         80.0     9600   Pave      Reg       1976   \n",
       "2          60       RL         68.0    11250   Pave      IR1       2001   \n",
       "3          70       RL         60.0     9550   Pave      IR1       1915   \n",
       "4          60       RL         84.0    14260   Pave      IR1       2000   \n",
       "\n",
       "   1stFlrSF  2ndFlrSF  SalePrice  Total Years  \n",
       "0       856       854     208500           22  \n",
       "1      1262         0     181500           49  \n",
       "2       920       866     223500           24  \n",
       "3       961       756     140000          110  \n",
       "4      1145      1053     250000           25  "
      ]
     },
     "execution_count": 9,
     "metadata": {},
     "output_type": "execute_result"
    }
   ],
   "source": [
    "df.head()"
   ]
  },
  {
   "cell_type": "code",
   "execution_count": 10,
   "id": "adeb1292-e4b6-411a-a783-bff041d78c9e",
   "metadata": {},
   "outputs": [],
   "source": [
    "df.drop(\"YearBuilt\",axis=1,inplace=True)"
   ]
  },
  {
   "cell_type": "code",
   "execution_count": 11,
   "id": "652f81bf-ea6b-40c1-bc4f-a1fea50376e3",
   "metadata": {},
   "outputs": [
    {
     "data": {
      "text/html": [
       "<div>\n",
       "<style scoped>\n",
       "    .dataframe tbody tr th:only-of-type {\n",
       "        vertical-align: middle;\n",
       "    }\n",
       "\n",
       "    .dataframe tbody tr th {\n",
       "        vertical-align: top;\n",
       "    }\n",
       "\n",
       "    .dataframe thead th {\n",
       "        text-align: right;\n",
       "    }\n",
       "</style>\n",
       "<table border=\"1\" class=\"dataframe\">\n",
       "  <thead>\n",
       "    <tr style=\"text-align: right;\">\n",
       "      <th></th>\n",
       "      <th>MSSubClass</th>\n",
       "      <th>MSZoning</th>\n",
       "      <th>LotFrontage</th>\n",
       "      <th>LotArea</th>\n",
       "      <th>Street</th>\n",
       "      <th>LotShape</th>\n",
       "      <th>1stFlrSF</th>\n",
       "      <th>2ndFlrSF</th>\n",
       "      <th>SalePrice</th>\n",
       "      <th>Total Years</th>\n",
       "    </tr>\n",
       "  </thead>\n",
       "  <tbody>\n",
       "    <tr>\n",
       "      <th>0</th>\n",
       "      <td>60</td>\n",
       "      <td>RL</td>\n",
       "      <td>65.0</td>\n",
       "      <td>8450</td>\n",
       "      <td>Pave</td>\n",
       "      <td>Reg</td>\n",
       "      <td>856</td>\n",
       "      <td>854</td>\n",
       "      <td>208500</td>\n",
       "      <td>22</td>\n",
       "    </tr>\n",
       "    <tr>\n",
       "      <th>1</th>\n",
       "      <td>20</td>\n",
       "      <td>RL</td>\n",
       "      <td>80.0</td>\n",
       "      <td>9600</td>\n",
       "      <td>Pave</td>\n",
       "      <td>Reg</td>\n",
       "      <td>1262</td>\n",
       "      <td>0</td>\n",
       "      <td>181500</td>\n",
       "      <td>49</td>\n",
       "    </tr>\n",
       "    <tr>\n",
       "      <th>2</th>\n",
       "      <td>60</td>\n",
       "      <td>RL</td>\n",
       "      <td>68.0</td>\n",
       "      <td>11250</td>\n",
       "      <td>Pave</td>\n",
       "      <td>IR1</td>\n",
       "      <td>920</td>\n",
       "      <td>866</td>\n",
       "      <td>223500</td>\n",
       "      <td>24</td>\n",
       "    </tr>\n",
       "    <tr>\n",
       "      <th>3</th>\n",
       "      <td>70</td>\n",
       "      <td>RL</td>\n",
       "      <td>60.0</td>\n",
       "      <td>9550</td>\n",
       "      <td>Pave</td>\n",
       "      <td>IR1</td>\n",
       "      <td>961</td>\n",
       "      <td>756</td>\n",
       "      <td>140000</td>\n",
       "      <td>110</td>\n",
       "    </tr>\n",
       "    <tr>\n",
       "      <th>4</th>\n",
       "      <td>60</td>\n",
       "      <td>RL</td>\n",
       "      <td>84.0</td>\n",
       "      <td>14260</td>\n",
       "      <td>Pave</td>\n",
       "      <td>IR1</td>\n",
       "      <td>1145</td>\n",
       "      <td>1053</td>\n",
       "      <td>250000</td>\n",
       "      <td>25</td>\n",
       "    </tr>\n",
       "  </tbody>\n",
       "</table>\n",
       "</div>"
      ],
      "text/plain": [
       "   MSSubClass MSZoning  LotFrontage  LotArea Street LotShape  1stFlrSF  \\\n",
       "0          60       RL         65.0     8450   Pave      Reg       856   \n",
       "1          20       RL         80.0     9600   Pave      Reg      1262   \n",
       "2          60       RL         68.0    11250   Pave      IR1       920   \n",
       "3          70       RL         60.0     9550   Pave      IR1       961   \n",
       "4          60       RL         84.0    14260   Pave      IR1      1145   \n",
       "\n",
       "   2ndFlrSF  SalePrice  Total Years  \n",
       "0       854     208500           22  \n",
       "1         0     181500           49  \n",
       "2       866     223500           24  \n",
       "3       756     140000          110  \n",
       "4      1053     250000           25  "
      ]
     },
     "execution_count": 11,
     "metadata": {},
     "output_type": "execute_result"
    }
   ],
   "source": [
    "df.head()"
   ]
  },
  {
   "cell_type": "code",
   "execution_count": 12,
   "id": "e1b909b8-40cb-4e42-8a83-a11205c786b1",
   "metadata": {},
   "outputs": [],
   "source": [
    "## categorical features\n",
    "cat_features=[\"MSSubClass\",\"MSZoning\",\"LotShape\",\"Street\"]\n",
    "out_feature=\"SalePrice\""
   ]
  },
  {
   "cell_type": "code",
   "execution_count": 13,
   "id": "7b9ad95f-977b-48b8-a9d2-8697059a7525",
   "metadata": {},
   "outputs": [
    {
     "data": {
      "text/plain": [
       "array([ 60,  20,  70,  50, 190,  45,  90, 120,  30,  80, 160,  75, 180,\n",
       "        40,  85], dtype=int64)"
      ]
     },
     "execution_count": 13,
     "metadata": {},
     "output_type": "execute_result"
    }
   ],
   "source": [
    "df[\"MSSubClass\"].unique()"
   ]
  },
  {
   "cell_type": "code",
   "execution_count": 14,
   "id": "19f3d64b-f911-4c92-83ac-10277e030415",
   "metadata": {},
   "outputs": [
    {
     "data": {
      "text/plain": [
       "array([5, 0, 5, ..., 6, 0, 0], dtype=int64)"
      ]
     },
     "execution_count": 14,
     "metadata": {},
     "output_type": "execute_result"
    }
   ],
   "source": [
    "from sklearn.preprocessing import LabelEncoder\n",
    "lbl_encoders={}\n",
    "lbl_encoders[\"MSSubClass\"]=LabelEncoder()\n",
    "lbl_encoders[\"MSSubClass\"].fit_transform(df[\"MSSubClass\"])"
   ]
  },
  {
   "cell_type": "code",
   "execution_count": 15,
   "id": "c359fefe-0ee4-4b4e-a66f-5711eefa1a6d",
   "metadata": {},
   "outputs": [
    {
     "data": {
      "text/plain": [
       "{'MSSubClass': LabelEncoder()}"
      ]
     },
     "execution_count": 15,
     "metadata": {},
     "output_type": "execute_result"
    }
   ],
   "source": [
    "lbl_encoders"
   ]
  },
  {
   "cell_type": "code",
   "execution_count": 16,
   "id": "ce21f335-8d43-4c63-a4c5-f67705735784",
   "metadata": {},
   "outputs": [],
   "source": [
    "from sklearn.preprocessing import LabelEncoder\n",
    "lbl_encoders={}\n",
    "for feature in cat_features:\n",
    "   lbl_encoders[feature]=LabelEncoder()\n",
    "   df[feature]=lbl_encoders[feature].fit_transform(df[feature])\n"
   ]
  },
  {
   "cell_type": "code",
   "execution_count": 17,
   "id": "9f24b86d-8503-4d56-8834-f82c0996a0cd",
   "metadata": {},
   "outputs": [
    {
     "data": {
      "text/plain": [
       "array([[5, 3, 1, 3],\n",
       "       [0, 3, 1, 3],\n",
       "       [5, 3, 1, 0],\n",
       "       ...,\n",
       "       [6, 3, 1, 3],\n",
       "       [0, 3, 1, 3],\n",
       "       [0, 3, 1, 3]], dtype=int64)"
      ]
     },
     "execution_count": 17,
     "metadata": {},
     "output_type": "execute_result"
    }
   ],
   "source": [
    "#stacking and converting into tensors:\n",
    "cat_features=np.stack([df[\"MSSubClass\"],df[\"MSZoning\"],df[\"Street\"],\n",
    "                      df[\"LotShape\"]],axis=1)\n",
    "cat_features"
   ]
  },
  {
   "cell_type": "code",
   "execution_count": 18,
   "id": "df139da4-6182-4cfb-b318-174aa7d74249",
   "metadata": {},
   "outputs": [
    {
     "data": {
      "text/plain": [
       "tensor([[5, 3, 1, 3],\n",
       "        [0, 3, 1, 3],\n",
       "        [5, 3, 1, 0],\n",
       "        ...,\n",
       "        [6, 3, 1, 3],\n",
       "        [0, 3, 1, 3],\n",
       "        [0, 3, 1, 3]])"
      ]
     },
     "execution_count": 18,
     "metadata": {},
     "output_type": "execute_result"
    }
   ],
   "source": [
    "# convert numpy to Tensors\n",
    "import torch\n",
    "cat_features=torch.tensor(cat_features,dtype=torch.int64)\n",
    "cat_features"
   ]
  },
  {
   "cell_type": "code",
   "execution_count": 19,
   "id": "7aadcfed-fde1-4afc-b953-6eb6f9dc74ac",
   "metadata": {},
   "outputs": [],
   "source": [
    "## create continous variable \n",
    "cont_features=[]\n",
    "for i in df.columns:\n",
    "    if i in [\"MSSubClass\",\"MSZoning\",\"Street\",\"LotShape\",\"SalePrice\"]:\n",
    "        pass\n",
    "    else:\n",
    "        cont_features.append(i)\n",
    "\n",
    "\n",
    "\n",
    "\n"
   ]
  },
  {
   "cell_type": "code",
   "execution_count": 20,
   "id": "598e400b-6217-47a6-9d3d-00d927aa9099",
   "metadata": {},
   "outputs": [
    {
     "data": {
      "text/plain": [
       "['LotFrontage', 'LotArea', '1stFlrSF', '2ndFlrSF', 'Total Years']"
      ]
     },
     "execution_count": 20,
     "metadata": {},
     "output_type": "execute_result"
    }
   ],
   "source": [
    "cont_features"
   ]
  },
  {
   "cell_type": "code",
   "execution_count": 21,
   "id": "371d43ad-4261-4357-a930-7e36faefdd81",
   "metadata": {},
   "outputs": [
    {
     "data": {
      "text/plain": [
       "tensor([[   65.,  8450.,   856.,   854.,    22.],\n",
       "        [   80.,  9600.,  1262.,     0.,    49.],\n",
       "        [   68., 11250.,   920.,   866.,    24.],\n",
       "        ...,\n",
       "        [   66.,  9042.,  1188.,  1152.,    84.],\n",
       "        [   68.,  9717.,  1078.,     0.,    75.],\n",
       "        [   75.,  9937.,  1256.,     0.,    60.]])"
      ]
     },
     "execution_count": 21,
     "metadata": {},
     "output_type": "execute_result"
    }
   ],
   "source": [
    "### stacking continuous variable to a tensor:\n",
    "cont_values=np.stack([df[i].values for i in cont_features],axis=1)\n",
    "cont_values=torch.tensor(cont_values,dtype=torch.float)\n",
    "cont_values"
   ]
  },
  {
   "cell_type": "code",
   "execution_count": 22,
   "id": "0b0f50c3-f45f-4a81-96f2-822bae7afd44",
   "metadata": {},
   "outputs": [
    {
     "data": {
      "text/plain": [
       "torch.float32"
      ]
     },
     "execution_count": 22,
     "metadata": {},
     "output_type": "execute_result"
    }
   ],
   "source": [
    "cont_values.dtype"
   ]
  },
  {
   "cell_type": "code",
   "execution_count": 23,
   "id": "b405a62f-d89d-4d66-a055-3a1f7d7de6a8",
   "metadata": {},
   "outputs": [
    {
     "data": {
      "text/plain": [
       "tensor([[208500.],\n",
       "        [181500.],\n",
       "        [223500.],\n",
       "        ...,\n",
       "        [266500.],\n",
       "        [142125.],\n",
       "        [147500.]])"
      ]
     },
     "execution_count": 23,
     "metadata": {},
     "output_type": "execute_result"
    }
   ],
   "source": [
    "###dependent features:\n",
    "y=torch.tensor(df[\"SalePrice\"].values,dtype=torch.float).reshape(-1,1)\n",
    "#reshape is done to create two dimension features....\n",
    "y\n",
    "\n"
   ]
  },
  {
   "cell_type": "code",
   "execution_count": 24,
   "id": "ad1737b0-f25e-4180-b739-c429273153b6",
   "metadata": {},
   "outputs": [
    {
     "name": "stdout",
     "output_type": "stream",
     "text": [
      "<class 'pandas.core.frame.DataFrame'>\n",
      "Index: 1201 entries, 0 to 1459\n",
      "Data columns (total 10 columns):\n",
      " #   Column       Non-Null Count  Dtype  \n",
      "---  ------       --------------  -----  \n",
      " 0   MSSubClass   1201 non-null   int64  \n",
      " 1   MSZoning     1201 non-null   int32  \n",
      " 2   LotFrontage  1201 non-null   float64\n",
      " 3   LotArea      1201 non-null   int64  \n",
      " 4   Street       1201 non-null   int32  \n",
      " 5   LotShape     1201 non-null   int32  \n",
      " 6   1stFlrSF     1201 non-null   int64  \n",
      " 7   2ndFlrSF     1201 non-null   int64  \n",
      " 8   SalePrice    1201 non-null   int64  \n",
      " 9   Total Years  1201 non-null   int64  \n",
      "dtypes: float64(1), int32(3), int64(6)\n",
      "memory usage: 89.1 KB\n"
     ]
    }
   ],
   "source": [
    "df.info()"
   ]
  },
  {
   "cell_type": "code",
   "execution_count": 25,
   "id": "b67db8b4-1cb6-4587-a248-6c1f1d5bd6c3",
   "metadata": {},
   "outputs": [
    {
     "data": {
      "text/plain": [
       "(1201, 10)"
      ]
     },
     "execution_count": 25,
     "metadata": {},
     "output_type": "execute_result"
    }
   ],
   "source": [
    "df.shape"
   ]
  },
  {
   "cell_type": "code",
   "execution_count": 26,
   "id": "b1106c9c-1e22-4c94-9e7d-a574ad5d2920",
   "metadata": {},
   "outputs": [
    {
     "data": {
      "text/plain": [
       "(torch.Size([1201, 4]), torch.Size([1201, 5]), torch.Size([1201, 1]))"
      ]
     },
     "execution_count": 26,
     "metadata": {},
     "output_type": "execute_result"
    }
   ],
   "source": [
    "cat_features.shape,cont_values.shape,y.shape"
   ]
  },
  {
   "cell_type": "code",
   "execution_count": 27,
   "id": "56fa79cf-ca0a-496b-8f20-7b879cffdb6f",
   "metadata": {},
   "outputs": [
    {
     "data": {
      "text/plain": [
       "15"
      ]
     },
     "execution_count": 27,
     "metadata": {},
     "output_type": "execute_result"
    }
   ],
   "source": [
    "len(df[\"MSSubClass\"].unique())"
   ]
  },
  {
   "cell_type": "markdown",
   "id": "cb012c5e-d55c-4fd3-b33e-214fd00d9f7f",
   "metadata": {},
   "source": [
    "## embedding features is done for only categorical features:\n",
    "# embedding size for categorical columns"
   ]
  },
  {
   "cell_type": "code",
   "execution_count": 28,
   "id": "d0bcbd78-e032-4eb7-80d9-6567317cd693",
   "metadata": {},
   "outputs": [],
   "source": [
    "cat_dims=[len(df[col].unique()) for col in [\"MSSubClass\",\"MSZoning\",\"Street\",\"LotShape\"]]"
   ]
  },
  {
   "cell_type": "code",
   "execution_count": 29,
   "id": "f4fd762f-b34f-4b95-b4d9-d64ecdaca55a",
   "metadata": {},
   "outputs": [
    {
     "data": {
      "text/plain": [
       "[15, 5, 2, 4]"
      ]
     },
     "execution_count": 29,
     "metadata": {},
     "output_type": "execute_result"
    }
   ],
   "source": [
    "cat_dims"
   ]
  },
  {
   "cell_type": "code",
   "execution_count": 30,
   "id": "2c5b78a8-d388-4a20-99a2-a3309130c35d",
   "metadata": {},
   "outputs": [
    {
     "data": {
      "text/plain": [
       "[(15, 8), (5, 3), (2, 1), (4, 2)]"
      ]
     },
     "execution_count": 30,
     "metadata": {},
     "output_type": "execute_result"
    }
   ],
   "source": [
    "### output dimension should be set based on the input dimension(min(50,feature dimension/2))\n",
    "embedding_dim=[(x,min(50,(x+1)//2)) for x in cat_dims]\n",
    "embedding_dim # upto here was preprocessing state"
   ]
  },
  {
   "cell_type": "code",
   "execution_count": 31,
   "id": "38eff509-af87-48e6-88d0-6951604d509b",
   "metadata": {},
   "outputs": [],
   "source": [
    "# using the embedding dimension, we should now create embedding layer:\n",
    "\n"
   ]
  },
  {
   "cell_type": "code",
   "execution_count": 32,
   "id": "9d53fd55-ae55-426e-89e6-a77a887d035f",
   "metadata": {},
   "outputs": [
    {
     "data": {
      "text/plain": [
       "ModuleList(\n",
       "  (0): Embedding(15, 8)\n",
       "  (1): Embedding(5, 3)\n",
       "  (2): Embedding(2, 1)\n",
       "  (3): Embedding(4, 2)\n",
       ")"
      ]
     },
     "execution_count": 32,
     "metadata": {},
     "output_type": "execute_result"
    }
   ],
   "source": [
    "import torch\n",
    "import torch.nn as nn\n",
    "import torch.nn.functional as F #  relu values and different sort of values stays here\n",
    "embed_representation=nn.ModuleList([nn.Embedding(inp,out) for inp,out in embedding_dim])\n",
    "embed_representation"
   ]
  },
  {
   "cell_type": "code",
   "execution_count": 33,
   "id": "8aa033f2-d1a1-4388-bfdf-9861c5f5411e",
   "metadata": {},
   "outputs": [],
   "source": [
    "# moduleList---required as u not only have one embedding layer,u will have multiple embedding layer so ..\n"
   ]
  },
  {
   "cell_type": "code",
   "execution_count": 34,
   "id": "7a81ffc1-06f1-4b44-9e32-41cf3fabd2a4",
   "metadata": {},
   "outputs": [
    {
     "data": {
      "text/plain": [
       "tensor([[5, 3, 1, 3],\n",
       "        [0, 3, 1, 3],\n",
       "        [5, 3, 1, 0],\n",
       "        ...,\n",
       "        [6, 3, 1, 3],\n",
       "        [0, 3, 1, 3],\n",
       "        [0, 3, 1, 3]])"
      ]
     },
     "execution_count": 34,
     "metadata": {},
     "output_type": "execute_result"
    }
   ],
   "source": [
    "cat_features #for only top4,  # below output values are label encoded values:"
   ]
  },
  {
   "cell_type": "code",
   "execution_count": 35,
   "id": "a2e88b26-641a-4cf2-a5f6-b31838b9585b",
   "metadata": {},
   "outputs": [
    {
     "data": {
      "text/plain": [
       "tensor([[5, 3, 1, 3],\n",
       "        [0, 3, 1, 3],\n",
       "        [5, 3, 1, 0],\n",
       "        [6, 3, 1, 0]])"
      ]
     },
     "execution_count": 35,
     "metadata": {},
     "output_type": "execute_result"
    }
   ],
   "source": [
    "cat_featuresZ=cat_features[:4]\n",
    "cat_featuresZ #top4 values are outputted below"
   ]
  },
  {
   "cell_type": "code",
   "execution_count": 36,
   "id": "f8212d46-bf9f-4a14-bd75-d6379a7be3e3",
   "metadata": {},
   "outputs": [],
   "source": [
    "# converting values into vectores using ModuleList:\n",
    "\n",
    "pd.set_option(\"display.max_rows\",500)\n",
    "embedding_val=[]\n",
    "for i,e in enumerate(embed_representation):\n",
    "    embedding_val.append(e(cat_features[:,i]))"
   ]
  },
  {
   "cell_type": "code",
   "execution_count": 37,
   "id": "b2c251e1-d9bb-4cdf-aac3-e4af354e823b",
   "metadata": {},
   "outputs": [
    {
     "data": {
      "text/plain": [
       "[tensor([[ 0.9277,  1.2552,  1.2349,  ...,  0.3909,  0.5075,  0.4505],\n",
       "         [ 1.3045,  0.4112,  0.5681,  ..., -0.4493,  0.5557, -1.4387],\n",
       "         [ 0.9277,  1.2552,  1.2349,  ...,  0.3909,  0.5075,  0.4505],\n",
       "         ...,\n",
       "         [-0.3397,  0.9219,  0.6116,  ..., -2.1561, -0.1049, -0.0593],\n",
       "         [ 1.3045,  0.4112,  0.5681,  ..., -0.4493,  0.5557, -1.4387],\n",
       "         [ 1.3045,  0.4112,  0.5681,  ..., -0.4493,  0.5557, -1.4387]],\n",
       "        grad_fn=<EmbeddingBackward0>),\n",
       " tensor([[-0.9644,  0.9341, -0.5031],\n",
       "         [-0.9644,  0.9341, -0.5031],\n",
       "         [-0.9644,  0.9341, -0.5031],\n",
       "         ...,\n",
       "         [-0.9644,  0.9341, -0.5031],\n",
       "         [-0.9644,  0.9341, -0.5031],\n",
       "         [-0.9644,  0.9341, -0.5031]], grad_fn=<EmbeddingBackward0>),\n",
       " tensor([[0.3804],\n",
       "         [0.3804],\n",
       "         [0.3804],\n",
       "         ...,\n",
       "         [0.3804],\n",
       "         [0.3804],\n",
       "         [0.3804]], grad_fn=<EmbeddingBackward0>),\n",
       " tensor([[0.5575, 1.1071],\n",
       "         [0.5575, 1.1071],\n",
       "         [0.8102, 0.0900],\n",
       "         ...,\n",
       "         [0.5575, 1.1071],\n",
       "         [0.5575, 1.1071],\n",
       "         [0.5575, 1.1071]], grad_fn=<EmbeddingBackward0>)]"
      ]
     },
     "execution_count": 37,
     "metadata": {},
     "output_type": "execute_result"
    }
   ],
   "source": [
    "embedding_val"
   ]
  },
  {
   "cell_type": "code",
   "execution_count": 38,
   "id": "8802265b-0a9e-4113-af65-9f21c82e0742",
   "metadata": {},
   "outputs": [
    {
     "data": {
      "text/plain": [
       "tensor([[ 0.9277,  1.2552,  1.2349,  ...,  0.3804,  0.5575,  1.1071],\n",
       "        [ 1.3045,  0.4112,  0.5681,  ...,  0.3804,  0.5575,  1.1071],\n",
       "        [ 0.9277,  1.2552,  1.2349,  ...,  0.3804,  0.8102,  0.0900],\n",
       "        ...,\n",
       "        [-0.3397,  0.9219,  0.6116,  ...,  0.3804,  0.5575,  1.1071],\n",
       "        [ 1.3045,  0.4112,  0.5681,  ...,  0.3804,  0.5575,  1.1071],\n",
       "        [ 1.3045,  0.4112,  0.5681,  ...,  0.3804,  0.5575,  1.1071]],\n",
       "       grad_fn=<CatBackward0>)"
      ]
     },
     "execution_count": 38,
     "metadata": {},
     "output_type": "execute_result"
    }
   ],
   "source": [
    "z=torch.cat(embedding_val,1)\n",
    "z\n",
    "#stacking basically used with numpyarrays and cat with torch tensors"
   ]
  },
  {
   "cell_type": "code",
   "execution_count": 39,
   "id": "a5a5dae1-c0dd-4d17-8e19-c6c61b8c6efc",
   "metadata": {},
   "outputs": [],
   "source": [
    "### implement dropout\n",
    "dropOut=nn.Dropout(.4) #40% is dropout"
   ]
  },
  {
   "cell_type": "code",
   "execution_count": 40,
   "id": "0ab068dd-25fc-46c6-855b-cfc2fb6bd1b8",
   "metadata": {},
   "outputs": [
    {
     "data": {
      "text/plain": [
       "Dropout(p=0.4, inplace=False)"
      ]
     },
     "execution_count": 40,
     "metadata": {},
     "output_type": "execute_result"
    }
   ],
   "source": [
    "dropOut"
   ]
  },
  {
   "cell_type": "code",
   "execution_count": 41,
   "id": "33b74164-3cfa-4739-a633-edd2f2d2b7f1",
   "metadata": {},
   "outputs": [
    {
     "data": {
      "text/plain": [
       "tensor([[1.5461, 2.0921, 2.0581,  ..., 0.0000, 0.0000, 0.0000],\n",
       "        [2.1741, 0.0000, 0.9468,  ..., 0.0000, 0.0000, 1.8452],\n",
       "        [1.5461, 0.0000, 2.0581,  ..., 0.6340, 1.3504, 0.1501],\n",
       "        ...,\n",
       "        [-0.0000, 0.0000, 1.0193,  ..., 0.6340, 0.9292, 1.8452],\n",
       "        [2.1741, 0.0000, 0.0000,  ..., 0.6340, 0.0000, 1.8452],\n",
       "        [0.0000, 0.0000, 0.9468,  ..., 0.0000, 0.9292, 0.0000]],\n",
       "       grad_fn=<MulBackward0>)"
      ]
     },
     "execution_count": 41,
     "metadata": {},
     "output_type": "execute_result"
    }
   ],
   "source": [
    "final_embed=dropOut(z)\n",
    "final_embed"
   ]
  },
  {
   "cell_type": "code",
   "execution_count": 42,
   "id": "014dba32-eb8a-4d23-8c86-30230986eae1",
   "metadata": {},
   "outputs": [],
   "source": [
    "import torch\n",
    "import torch.nn as nn\n",
    "import torch.nn.functional as F\n",
    "\n",
    "class FeedForwardNN(nn.Module):\n",
    "    def __init__(self, embedding_dim, n_cont, out_sz, layers, p=0.5):  # p is dropout ratio\n",
    "        super().__init__()\n",
    "        \n",
    "        self.embeds = nn.ModuleList([nn.Embedding(inp, out) for inp, out in embedding_dim])\n",
    "        self.emb_drop = nn.Dropout(p)\n",
    "        self.bn_cont = nn.BatchNorm1d(n_cont)\n",
    "\n",
    "        layerlist = []\n",
    "        n_emb = sum(out for inp, out in embedding_dim)\n",
    "        n_in = n_emb + n_cont\n",
    "\n",
    "        for i in layers:\n",
    "            layerlist.append(nn.Linear(n_in, i))\n",
    "            layerlist.append(nn.ReLU(inplace=True))\n",
    "            layerlist.append(nn.BatchNorm1d(i))\n",
    "            layerlist.append(nn.Dropout(p))\n",
    "            n_in = i\n",
    "        layerlist.append(nn.Linear(layers[-1], out_sz))\n",
    "\n",
    "        self.layers = nn.Sequential(*layerlist)\n",
    "\n",
    "    def forward(self, x_cat, x_cont):\n",
    "        embeddings = []\n",
    "        for i, e in enumerate(self.embeds):\n",
    "            embeddings.append(e(x_cat[:, i]))\n",
    "\n",
    "        x = torch.cat(embeddings, dim=1)\n",
    "        x = self.emb_drop(x)\n",
    "\n",
    "        x_cont = self.bn_cont(x_cont)\n",
    "        x = torch.cat([x, x_cont], dim=1)\n",
    "        x = self.layers(x)\n",
    "        return x\n"
   ]
  },
  {
   "cell_type": "code",
   "execution_count": 43,
   "id": "465b50db-d764-4a7b-89f8-665ce7b1d875",
   "metadata": {},
   "outputs": [],
   "source": [
    "#always remember when we create feed forward network, we create two functions : \n",
    "#one is init and another is forward()"
   ]
  },
  {
   "cell_type": "code",
   "execution_count": 44,
   "id": "e6123b45-6747-40ef-b740-26c9ca6eb7b6",
   "metadata": {},
   "outputs": [
    {
     "data": {
      "text/plain": [
       "5"
      ]
     },
     "execution_count": 44,
     "metadata": {},
     "output_type": "execute_result"
    }
   ],
   "source": [
    "len(cont_features)"
   ]
  },
  {
   "cell_type": "code",
   "execution_count": 45,
   "id": "48017ad6-b2a7-4d30-8095-0ccb5e3b74d5",
   "metadata": {},
   "outputs": [],
   "source": [
    "#generally use relu for regression problem:"
   ]
  },
  {
   "cell_type": "code",
   "execution_count": 46,
   "id": "09a8ae1d-1788-4650-b1f3-16b8e7419a14",
   "metadata": {},
   "outputs": [],
   "source": [
    "torch.manual_seed(100)\n",
    "model=FeedForwardNN(embedding_dim,len(cont_features),1,[100,50],p=0.4)"
   ]
  },
  {
   "cell_type": "code",
   "execution_count": 47,
   "id": "99589962-6c60-4129-b890-9ddcfbdb5f82",
   "metadata": {},
   "outputs": [
    {
     "data": {
      "text/plain": [
       "FeedForwardNN(\n",
       "  (embeds): ModuleList(\n",
       "    (0): Embedding(15, 8)\n",
       "    (1): Embedding(5, 3)\n",
       "    (2): Embedding(2, 1)\n",
       "    (3): Embedding(4, 2)\n",
       "  )\n",
       "  (emb_drop): Dropout(p=0.4, inplace=False)\n",
       "  (bn_cont): BatchNorm1d(5, eps=1e-05, momentum=0.1, affine=True, track_running_stats=True)\n",
       "  (layers): Sequential(\n",
       "    (0): Linear(in_features=19, out_features=100, bias=True)\n",
       "    (1): ReLU(inplace=True)\n",
       "    (2): BatchNorm1d(100, eps=1e-05, momentum=0.1, affine=True, track_running_stats=True)\n",
       "    (3): Dropout(p=0.4, inplace=False)\n",
       "    (4): Linear(in_features=100, out_features=50, bias=True)\n",
       "    (5): ReLU(inplace=True)\n",
       "    (6): BatchNorm1d(50, eps=1e-05, momentum=0.1, affine=True, track_running_stats=True)\n",
       "    (7): Dropout(p=0.4, inplace=False)\n",
       "    (8): Linear(in_features=50, out_features=1, bias=True)\n",
       "  )\n",
       ")"
      ]
     },
     "execution_count": 47,
     "metadata": {},
     "output_type": "execute_result"
    }
   ],
   "source": [
    "model"
   ]
  },
  {
   "cell_type": "markdown",
   "id": "ccca76f4-5bd8-4165-87c3-31a0a772709c",
   "metadata": {},
   "source": [
    "### define loss and optimizer"
   ]
  },
  {
   "cell_type": "code",
   "execution_count": 48,
   "id": "af693b3a-5a85-44bd-8a12-00ddc8a5dc18",
   "metadata": {},
   "outputs": [],
   "source": [
    "loss_function=nn.MSELoss() ##later convert to RMSE\n",
    "optimizer=torch.optim.Adam(model.parameters(),lr=0.01)\n"
   ]
  },
  {
   "cell_type": "code",
   "execution_count": 49,
   "id": "43717a29-00f9-421a-b979-3d8d8c7c2105",
   "metadata": {},
   "outputs": [
    {
     "data": {
      "text/plain": [
       "(1201, 10)"
      ]
     },
     "execution_count": 49,
     "metadata": {},
     "output_type": "execute_result"
    }
   ],
   "source": [
    "df.shape"
   ]
  },
  {
   "cell_type": "code",
   "execution_count": 50,
   "id": "9ef7cc71-5946-434d-be9d-580f44702bef",
   "metadata": {},
   "outputs": [
    {
     "data": {
      "text/plain": [
       "tensor([[   65.,  8450.,   856.,   854.,    22.],\n",
       "        [   80.,  9600.,  1262.,     0.,    49.],\n",
       "        [   68., 11250.,   920.,   866.,    24.],\n",
       "        ...,\n",
       "        [   66.,  9042.,  1188.,  1152.,    84.],\n",
       "        [   68.,  9717.,  1078.,     0.,    75.],\n",
       "        [   75.,  9937.,  1256.,     0.,    60.]])"
      ]
     },
     "execution_count": 50,
     "metadata": {},
     "output_type": "execute_result"
    }
   ],
   "source": [
    "cont_values"
   ]
  },
  {
   "cell_type": "code",
   "execution_count": 51,
   "id": "b3eae356-2250-44f1-9b59-43d45fa2c541",
   "metadata": {},
   "outputs": [],
   "source": [
    "batch_size=1200\n",
    "test_size=int(batch_size*0.15)\n",
    "train_categorical=cat_features[:batch_size-test_size]\n",
    "test_categorical=cat_features[batch_size-test_size:batch_size]\n",
    "train_cont=cont_values[:batch_size-test_size]\n",
    "test_cont=cont_values[batch_size-test_size:batch_size]\n",
    "y_train=y[:batch_size-test_size]\n",
    "y_test=y[batch_size-test_size:batch_size]"
   ]
  },
  {
   "cell_type": "code",
   "execution_count": 52,
   "id": "5fee5bb6-6c30-4a27-9c6f-6f5646fccb8d",
   "metadata": {},
   "outputs": [
    {
     "data": {
      "text/plain": [
       "1020"
      ]
     },
     "execution_count": 52,
     "metadata": {},
     "output_type": "execute_result"
    }
   ],
   "source": [
    "len(train_categorical )##likewise check len of others too"
   ]
  },
  {
   "cell_type": "code",
   "execution_count": 53,
   "id": "c56b9a22-0da4-4b7b-a88f-f926619bf714",
   "metadata": {},
   "outputs": [
    {
     "name": "stdout",
     "output_type": "stream",
     "text": [
      "Epoch number : 1 and the loss : 200496.75\n",
      "Epoch number : 11 and the loss : 200493.46875\n",
      "Epoch number : 21 and the loss : 200489.140625\n",
      "Epoch number : 31 and the loss : 200482.625\n",
      "Epoch number : 41 and the loss : 200473.234375\n",
      "Epoch number : 51 and the loss : 200461.375\n",
      "Epoch number : 61 and the loss : 200446.421875\n",
      "Epoch number : 71 and the loss : 200429.359375\n",
      "Epoch number : 81 and the loss : 200407.953125\n",
      "Epoch number : 91 and the loss : 200383.390625\n",
      "Epoch number : 101 and the loss : 200355.28125\n",
      "Epoch number : 111 and the loss : 200322.140625\n",
      "Epoch number : 121 and the loss : 200291.09375\n",
      "Epoch number : 131 and the loss : 200252.328125\n",
      "Epoch number : 141 and the loss : 200205.921875\n",
      "Epoch number : 151 and the loss : 200162.6875\n",
      "Epoch number : 161 and the loss : 200112.0625\n",
      "Epoch number : 171 and the loss : 200059.0625\n",
      "Epoch number : 181 and the loss : 200006.46875\n",
      "Epoch number : 191 and the loss : 199947.296875\n",
      "Epoch number : 201 and the loss : 199881.4375\n",
      "Epoch number : 211 and the loss : 199815.875\n",
      "Epoch number : 221 and the loss : 199737.875\n",
      "Epoch number : 231 and the loss : 199670.03125\n",
      "Epoch number : 241 and the loss : 199588.78125\n",
      "Epoch number : 251 and the loss : 199505.546875\n",
      "Epoch number : 261 and the loss : 199410.203125\n",
      "Epoch number : 271 and the loss : 199324.71875\n",
      "Epoch number : 281 and the loss : 199244.8125\n",
      "Epoch number : 291 and the loss : 199140.609375\n",
      "Epoch number : 301 and the loss : 199028.890625\n",
      "Epoch number : 311 and the loss : 198930.734375\n",
      "Epoch number : 321 and the loss : 198851.640625\n",
      "Epoch number : 331 and the loss : 198706.453125\n",
      "Epoch number : 341 and the loss : 198604.328125\n",
      "Epoch number : 351 and the loss : 198498.578125\n",
      "Epoch number : 361 and the loss : 198385.015625\n",
      "Epoch number : 371 and the loss : 198258.75\n",
      "Epoch number : 381 and the loss : 198104.140625\n",
      "Epoch number : 391 and the loss : 198017.875\n",
      "Epoch number : 401 and the loss : 197880.5\n",
      "Epoch number : 411 and the loss : 197729.734375\n",
      "Epoch number : 421 and the loss : 197594.21875\n",
      "Epoch number : 431 and the loss : 197419.265625\n",
      "Epoch number : 441 and the loss : 197307.84375\n",
      "Epoch number : 451 and the loss : 197171.3125\n",
      "Epoch number : 461 and the loss : 196963.546875\n",
      "Epoch number : 471 and the loss : 196883.71875\n",
      "Epoch number : 481 and the loss : 196709.09375\n",
      "Epoch number : 491 and the loss : 196506.609375\n",
      "Epoch number : 501 and the loss : 196436.921875\n",
      "Epoch number : 511 and the loss : 196206.9375\n",
      "Epoch number : 521 and the loss : 196047.875\n",
      "Epoch number : 531 and the loss : 195851.953125\n",
      "Epoch number : 541 and the loss : 195665.234375\n",
      "Epoch number : 551 and the loss : 195471.34375\n",
      "Epoch number : 561 and the loss : 195290.890625\n",
      "Epoch number : 571 and the loss : 195076.5625\n",
      "Epoch number : 581 and the loss : 194846.140625\n",
      "Epoch number : 591 and the loss : 194698.53125\n",
      "Epoch number : 601 and the loss : 194532.8125\n",
      "Epoch number : 611 and the loss : 194283.0\n",
      "Epoch number : 621 and the loss : 194114.71875\n",
      "Epoch number : 631 and the loss : 193840.015625\n",
      "Epoch number : 641 and the loss : 193677.140625\n",
      "Epoch number : 651 and the loss : 193478.609375\n",
      "Epoch number : 661 and the loss : 193219.421875\n",
      "Epoch number : 671 and the loss : 193066.6875\n",
      "Epoch number : 681 and the loss : 192773.65625\n",
      "Epoch number : 691 and the loss : 192490.765625\n",
      "Epoch number : 701 and the loss : 192300.0625\n",
      "Epoch number : 711 and the loss : 192200.109375\n",
      "Epoch number : 721 and the loss : 191966.96875\n",
      "Epoch number : 731 and the loss : 191636.3125\n",
      "Epoch number : 741 and the loss : 191420.25\n",
      "Epoch number : 751 and the loss : 191249.71875\n",
      "Epoch number : 761 and the loss : 190971.0\n",
      "Epoch number : 771 and the loss : 190729.421875\n",
      "Epoch number : 781 and the loss : 190470.1875\n",
      "Epoch number : 791 and the loss : 190273.21875\n",
      "Epoch number : 801 and the loss : 189872.4375\n",
      "Epoch number : 811 and the loss : 189752.03125\n",
      "Epoch number : 821 and the loss : 189645.84375\n",
      "Epoch number : 831 and the loss : 189279.609375\n",
      "Epoch number : 841 and the loss : 188929.640625\n",
      "Epoch number : 851 and the loss : 188900.921875\n",
      "Epoch number : 861 and the loss : 188381.1875\n",
      "Epoch number : 871 and the loss : 188175.578125\n",
      "Epoch number : 881 and the loss : 187883.1875\n",
      "Epoch number : 891 and the loss : 187485.796875\n",
      "Epoch number : 901 and the loss : 187471.40625\n",
      "Epoch number : 911 and the loss : 187226.078125\n",
      "Epoch number : 921 and the loss : 186797.859375\n",
      "Epoch number : 931 and the loss : 186389.34375\n",
      "Epoch number : 941 and the loss : 186117.375\n",
      "Epoch number : 951 and the loss : 186095.484375\n",
      "Epoch number : 961 and the loss : 185527.515625\n",
      "Epoch number : 971 and the loss : 185296.78125\n",
      "Epoch number : 981 and the loss : 185063.0625\n",
      "Epoch number : 991 and the loss : 184779.96875\n",
      "Epoch number : 1001 and the loss : 184303.53125\n",
      "Epoch number : 1011 and the loss : 183978.15625\n",
      "Epoch number : 1021 and the loss : 183778.96875\n",
      "Epoch number : 1031 and the loss : 183368.4375\n",
      "Epoch number : 1041 and the loss : 183206.71875\n",
      "Epoch number : 1051 and the loss : 182878.96875\n",
      "Epoch number : 1061 and the loss : 182543.375\n",
      "Epoch number : 1071 and the loss : 182301.3125\n",
      "Epoch number : 1081 and the loss : 181892.25\n",
      "Epoch number : 1091 and the loss : 181476.984375\n",
      "Epoch number : 1101 and the loss : 181271.75\n",
      "Epoch number : 1111 and the loss : 180753.625\n",
      "Epoch number : 1121 and the loss : 180483.96875\n",
      "Epoch number : 1131 and the loss : 180397.71875\n",
      "Epoch number : 1141 and the loss : 179899.140625\n",
      "Epoch number : 1151 and the loss : 179487.734375\n",
      "Epoch number : 1161 and the loss : 179358.0\n",
      "Epoch number : 1171 and the loss : 179013.609375\n",
      "Epoch number : 1181 and the loss : 178521.09375\n",
      "Epoch number : 1191 and the loss : 178093.421875\n",
      "Epoch number : 1201 and the loss : 178092.84375\n",
      "Epoch number : 1211 and the loss : 177436.515625\n",
      "Epoch number : 1221 and the loss : 177458.203125\n",
      "Epoch number : 1231 and the loss : 176574.46875\n",
      "Epoch number : 1241 and the loss : 176282.1875\n",
      "Epoch number : 1251 and the loss : 175495.859375\n",
      "Epoch number : 1261 and the loss : 175729.25\n",
      "Epoch number : 1271 and the loss : 175245.34375\n",
      "Epoch number : 1281 and the loss : 174940.640625\n",
      "Epoch number : 1291 and the loss : 174466.078125\n",
      "Epoch number : 1301 and the loss : 174215.578125\n",
      "Epoch number : 1311 and the loss : 173630.6875\n",
      "Epoch number : 1321 and the loss : 173319.21875\n",
      "Epoch number : 1331 and the loss : 173450.4375\n",
      "Epoch number : 1341 and the loss : 172580.734375\n",
      "Epoch number : 1351 and the loss : 172228.65625\n",
      "Epoch number : 1361 and the loss : 171965.265625\n",
      "Epoch number : 1371 and the loss : 171818.625\n",
      "Epoch number : 1381 and the loss : 171317.4375\n",
      "Epoch number : 1391 and the loss : 170339.140625\n",
      "Epoch number : 1401 and the loss : 170522.25\n",
      "Epoch number : 1411 and the loss : 169662.484375\n",
      "Epoch number : 1421 and the loss : 169769.1875\n",
      "Epoch number : 1431 and the loss : 169489.234375\n",
      "Epoch number : 1441 and the loss : 168657.046875\n",
      "Epoch number : 1451 and the loss : 168556.609375\n",
      "Epoch number : 1461 and the loss : 167920.78125\n",
      "Epoch number : 1471 and the loss : 167606.703125\n",
      "Epoch number : 1481 and the loss : 167427.640625\n",
      "Epoch number : 1491 and the loss : 166555.0\n",
      "Epoch number : 1501 and the loss : 166329.953125\n",
      "Epoch number : 1511 and the loss : 165587.09375\n",
      "Epoch number : 1521 and the loss : 165836.21875\n",
      "Epoch number : 1531 and the loss : 165268.921875\n",
      "Epoch number : 1541 and the loss : 164567.359375\n",
      "Epoch number : 1551 and the loss : 164521.171875\n",
      "Epoch number : 1561 and the loss : 163723.546875\n",
      "Epoch number : 1571 and the loss : 163476.265625\n",
      "Epoch number : 1581 and the loss : 163457.59375\n",
      "Epoch number : 1591 and the loss : 162928.875\n",
      "Epoch number : 1601 and the loss : 162453.40625\n",
      "Epoch number : 1611 and the loss : 161644.015625\n",
      "Epoch number : 1621 and the loss : 160774.515625\n",
      "Epoch number : 1631 and the loss : 160870.515625\n",
      "Epoch number : 1641 and the loss : 160948.421875\n",
      "Epoch number : 1651 and the loss : 160152.40625\n",
      "Epoch number : 1661 and the loss : 160164.40625\n",
      "Epoch number : 1671 and the loss : 159038.328125\n",
      "Epoch number : 1681 and the loss : 158757.578125\n",
      "Epoch number : 1691 and the loss : 158287.78125\n",
      "Epoch number : 1701 and the loss : 157679.125\n",
      "Epoch number : 1711 and the loss : 157369.34375\n",
      "Epoch number : 1721 and the loss : 157122.046875\n",
      "Epoch number : 1731 and the loss : 156707.421875\n",
      "Epoch number : 1741 and the loss : 156446.359375\n",
      "Epoch number : 1751 and the loss : 156770.84375\n",
      "Epoch number : 1761 and the loss : 154716.5625\n",
      "Epoch number : 1771 and the loss : 154484.46875\n",
      "Epoch number : 1781 and the loss : 154112.546875\n",
      "Epoch number : 1791 and the loss : 153814.890625\n",
      "Epoch number : 1801 and the loss : 153138.828125\n",
      "Epoch number : 1811 and the loss : 153207.421875\n",
      "Epoch number : 1821 and the loss : 152284.3125\n",
      "Epoch number : 1831 and the loss : 152366.359375\n",
      "Epoch number : 1841 and the loss : 151563.875\n",
      "Epoch number : 1851 and the loss : 150668.21875\n",
      "Epoch number : 1861 and the loss : 150780.0625\n",
      "Epoch number : 1871 and the loss : 150773.40625\n",
      "Epoch number : 1881 and the loss : 149247.65625\n",
      "Epoch number : 1891 and the loss : 148395.15625\n",
      "Epoch number : 1901 and the loss : 148557.796875\n",
      "Epoch number : 1911 and the loss : 148861.984375\n",
      "Epoch number : 1921 and the loss : 147848.90625\n",
      "Epoch number : 1931 and the loss : 147355.53125\n",
      "Epoch number : 1941 and the loss : 146658.015625\n",
      "Epoch number : 1951 and the loss : 146473.609375\n",
      "Epoch number : 1961 and the loss : 145994.90625\n",
      "Epoch number : 1971 and the loss : 145742.671875\n",
      "Epoch number : 1981 and the loss : 145775.21875\n",
      "Epoch number : 1991 and the loss : 144494.546875\n",
      "Epoch number : 2001 and the loss : 144073.265625\n",
      "Epoch number : 2011 and the loss : 142984.890625\n",
      "Epoch number : 2021 and the loss : 142940.890625\n",
      "Epoch number : 2031 and the loss : 142518.296875\n",
      "Epoch number : 2041 and the loss : 141949.203125\n",
      "Epoch number : 2051 and the loss : 140997.421875\n",
      "Epoch number : 2061 and the loss : 140932.390625\n",
      "Epoch number : 2071 and the loss : 141063.359375\n",
      "Epoch number : 2081 and the loss : 139746.53125\n",
      "Epoch number : 2091 and the loss : 139789.265625\n",
      "Epoch number : 2101 and the loss : 139391.890625\n",
      "Epoch number : 2111 and the loss : 138689.078125\n",
      "Epoch number : 2121 and the loss : 137736.265625\n",
      "Epoch number : 2131 and the loss : 137873.03125\n",
      "Epoch number : 2141 and the loss : 137166.09375\n",
      "Epoch number : 2151 and the loss : 136690.015625\n",
      "Epoch number : 2161 and the loss : 136522.15625\n",
      "Epoch number : 2171 and the loss : 136551.71875\n",
      "Epoch number : 2181 and the loss : 135843.5\n",
      "Epoch number : 2191 and the loss : 134840.15625\n",
      "Epoch number : 2201 and the loss : 134169.359375\n",
      "Epoch number : 2211 and the loss : 133701.796875\n",
      "Epoch number : 2221 and the loss : 132800.90625\n",
      "Epoch number : 2231 and the loss : 132633.265625\n",
      "Epoch number : 2241 and the loss : 131462.6875\n",
      "Epoch number : 2251 and the loss : 131680.765625\n",
      "Epoch number : 2261 and the loss : 130285.7578125\n",
      "Epoch number : 2271 and the loss : 130371.4140625\n",
      "Epoch number : 2281 and the loss : 130203.640625\n",
      "Epoch number : 2291 and the loss : 129447.5\n",
      "Epoch number : 2301 and the loss : 128955.7421875\n",
      "Epoch number : 2311 and the loss : 129739.6328125\n",
      "Epoch number : 2321 and the loss : 128373.3671875\n",
      "Epoch number : 2331 and the loss : 128564.046875\n",
      "Epoch number : 2341 and the loss : 127567.3125\n",
      "Epoch number : 2351 and the loss : 126274.65625\n",
      "Epoch number : 2361 and the loss : 126270.484375\n",
      "Epoch number : 2371 and the loss : 125687.78125\n",
      "Epoch number : 2381 and the loss : 124715.46875\n",
      "Epoch number : 2391 and the loss : 124799.6015625\n",
      "Epoch number : 2401 and the loss : 124321.09375\n",
      "Epoch number : 2411 and the loss : 123190.1015625\n",
      "Epoch number : 2421 and the loss : 123301.8046875\n",
      "Epoch number : 2431 and the loss : 122434.328125\n",
      "Epoch number : 2441 and the loss : 122411.6796875\n",
      "Epoch number : 2451 and the loss : 121155.8125\n",
      "Epoch number : 2461 and the loss : 120228.2109375\n",
      "Epoch number : 2471 and the loss : 120700.40625\n",
      "Epoch number : 2481 and the loss : 120614.375\n",
      "Epoch number : 2491 and the loss : 120599.3671875\n",
      "Epoch number : 2501 and the loss : 119627.3046875\n",
      "Epoch number : 2511 and the loss : 118678.96875\n",
      "Epoch number : 2521 and the loss : 117558.6953125\n",
      "Epoch number : 2531 and the loss : 118261.1171875\n",
      "Epoch number : 2541 and the loss : 117298.6328125\n",
      "Epoch number : 2551 and the loss : 117006.0859375\n",
      "Epoch number : 2561 and the loss : 116437.9765625\n",
      "Epoch number : 2571 and the loss : 115744.71875\n",
      "Epoch number : 2581 and the loss : 115949.65625\n",
      "Epoch number : 2591 and the loss : 115462.09375\n",
      "Epoch number : 2601 and the loss : 114365.515625\n",
      "Epoch number : 2611 and the loss : 114354.7421875\n",
      "Epoch number : 2621 and the loss : 114705.390625\n",
      "Epoch number : 2631 and the loss : 112699.75\n",
      "Epoch number : 2641 and the loss : 112218.8984375\n",
      "Epoch number : 2651 and the loss : 112390.4296875\n",
      "Epoch number : 2661 and the loss : 111289.1875\n",
      "Epoch number : 2671 and the loss : 110941.8671875\n",
      "Epoch number : 2681 and the loss : 110062.953125\n",
      "Epoch number : 2691 and the loss : 109508.59375\n",
      "Epoch number : 2701 and the loss : 109681.265625\n",
      "Epoch number : 2711 and the loss : 109195.40625\n",
      "Epoch number : 2721 and the loss : 108909.390625\n",
      "Epoch number : 2731 and the loss : 108379.875\n",
      "Epoch number : 2741 and the loss : 107150.0\n",
      "Epoch number : 2751 and the loss : 107280.8984375\n",
      "Epoch number : 2761 and the loss : 106032.3828125\n",
      "Epoch number : 2771 and the loss : 106739.796875\n",
      "Epoch number : 2781 and the loss : 105210.3046875\n",
      "Epoch number : 2791 and the loss : 104492.796875\n",
      "Epoch number : 2801 and the loss : 103541.125\n",
      "Epoch number : 2811 and the loss : 103928.2265625\n",
      "Epoch number : 2821 and the loss : 102805.1953125\n",
      "Epoch number : 2831 and the loss : 102756.5625\n",
      "Epoch number : 2841 and the loss : 102158.3046875\n",
      "Epoch number : 2851 and the loss : 101221.0546875\n",
      "Epoch number : 2861 and the loss : 101946.5703125\n",
      "Epoch number : 2871 and the loss : 100663.2109375\n",
      "Epoch number : 2881 and the loss : 100918.09375\n",
      "Epoch number : 2891 and the loss : 100598.0625\n",
      "Epoch number : 2901 and the loss : 98560.265625\n",
      "Epoch number : 2911 and the loss : 98047.953125\n",
      "Epoch number : 2921 and the loss : 98505.9453125\n",
      "Epoch number : 2931 and the loss : 98928.1796875\n",
      "Epoch number : 2941 and the loss : 97055.96875\n",
      "Epoch number : 2951 and the loss : 97241.0625\n",
      "Epoch number : 2961 and the loss : 96433.21875\n",
      "Epoch number : 2971 and the loss : 95215.96875\n",
      "Epoch number : 2981 and the loss : 96444.4609375\n",
      "Epoch number : 2991 and the loss : 97042.4765625\n",
      "Epoch number : 3001 and the loss : 93786.9140625\n",
      "Epoch number : 3011 and the loss : 94165.2109375\n",
      "Epoch number : 3021 and the loss : 93117.890625\n",
      "Epoch number : 3031 and the loss : 92848.8046875\n",
      "Epoch number : 3041 and the loss : 94295.1640625\n",
      "Epoch number : 3051 and the loss : 91556.1328125\n",
      "Epoch number : 3061 and the loss : 93222.3828125\n",
      "Epoch number : 3071 and the loss : 91352.265625\n",
      "Epoch number : 3081 and the loss : 90839.828125\n",
      "Epoch number : 3091 and the loss : 90088.7265625\n",
      "Epoch number : 3101 and the loss : 90352.8828125\n",
      "Epoch number : 3111 and the loss : 89426.3125\n",
      "Epoch number : 3121 and the loss : 89562.8046875\n",
      "Epoch number : 3131 and the loss : 88167.8359375\n",
      "Epoch number : 3141 and the loss : 87946.875\n",
      "Epoch number : 3151 and the loss : 90511.25\n",
      "Epoch number : 3161 and the loss : 86366.6015625\n",
      "Epoch number : 3171 and the loss : 86886.3046875\n",
      "Epoch number : 3181 and the loss : 86202.5\n",
      "Epoch number : 3191 and the loss : 86417.125\n",
      "Epoch number : 3201 and the loss : 84797.7734375\n",
      "Epoch number : 3211 and the loss : 84394.375\n",
      "Epoch number : 3221 and the loss : 83131.7890625\n",
      "Epoch number : 3231 and the loss : 84697.328125\n",
      "Epoch number : 3241 and the loss : 82204.1953125\n",
      "Epoch number : 3251 and the loss : 81404.8359375\n",
      "Epoch number : 3261 and the loss : 81599.5625\n",
      "Epoch number : 3271 and the loss : 81952.546875\n",
      "Epoch number : 3281 and the loss : 81264.8359375\n",
      "Epoch number : 3291 and the loss : 81913.5\n",
      "Epoch number : 3301 and the loss : 80042.6484375\n",
      "Epoch number : 3311 and the loss : 79476.3984375\n",
      "Epoch number : 3321 and the loss : 79559.625\n",
      "Epoch number : 3331 and the loss : 78893.2578125\n",
      "Epoch number : 3341 and the loss : 78245.28125\n",
      "Epoch number : 3351 and the loss : 78494.9140625\n",
      "Epoch number : 3361 and the loss : 77359.0703125\n",
      "Epoch number : 3371 and the loss : 79777.2265625\n",
      "Epoch number : 3381 and the loss : 78692.453125\n",
      "Epoch number : 3391 and the loss : 75041.1015625\n",
      "Epoch number : 3401 and the loss : 76693.3515625\n",
      "Epoch number : 3411 and the loss : 74528.0234375\n",
      "Epoch number : 3421 and the loss : 73621.8125\n",
      "Epoch number : 3431 and the loss : 73950.6640625\n",
      "Epoch number : 3441 and the loss : 73866.6796875\n",
      "Epoch number : 3451 and the loss : 72787.4296875\n",
      "Epoch number : 3461 and the loss : 72456.984375\n",
      "Epoch number : 3471 and the loss : 72299.0546875\n",
      "Epoch number : 3481 and the loss : 70953.859375\n",
      "Epoch number : 3491 and the loss : 73699.7109375\n",
      "Epoch number : 3501 and the loss : 68730.734375\n",
      "Epoch number : 3511 and the loss : 69252.1953125\n",
      "Epoch number : 3521 and the loss : 68944.0859375\n",
      "Epoch number : 3531 and the loss : 70077.7109375\n",
      "Epoch number : 3541 and the loss : 68694.5859375\n",
      "Epoch number : 3551 and the loss : 68210.8515625\n",
      "Epoch number : 3561 and the loss : 67519.1953125\n",
      "Epoch number : 3571 and the loss : 66296.28125\n",
      "Epoch number : 3581 and the loss : 66044.984375\n",
      "Epoch number : 3591 and the loss : 66324.9453125\n",
      "Epoch number : 3601 and the loss : 64611.5859375\n",
      "Epoch number : 3611 and the loss : 65318.62890625\n",
      "Epoch number : 3621 and the loss : 65214.96875\n",
      "Epoch number : 3631 and the loss : 63208.12109375\n",
      "Epoch number : 3641 and the loss : 64700.2734375\n",
      "Epoch number : 3651 and the loss : 62380.125\n",
      "Epoch number : 3661 and the loss : 63826.484375\n",
      "Epoch number : 3671 and the loss : 61894.5078125\n",
      "Epoch number : 3681 and the loss : 61394.18359375\n",
      "Epoch number : 3691 and the loss : 61165.2890625\n",
      "Epoch number : 3701 and the loss : 60313.76953125\n",
      "Epoch number : 3711 and the loss : 61851.3203125\n",
      "Epoch number : 3721 and the loss : 59742.26171875\n",
      "Epoch number : 3731 and the loss : 58621.65625\n",
      "Epoch number : 3741 and the loss : 57845.3359375\n",
      "Epoch number : 3751 and the loss : 59131.71484375\n",
      "Epoch number : 3761 and the loss : 58994.4609375\n",
      "Epoch number : 3771 and the loss : 57115.11328125\n",
      "Epoch number : 3781 and the loss : 59903.91796875\n",
      "Epoch number : 3791 and the loss : 56834.65625\n",
      "Epoch number : 3801 and the loss : 56275.6796875\n",
      "Epoch number : 3811 and the loss : 55751.33984375\n",
      "Epoch number : 3821 and the loss : 56870.69140625\n",
      "Epoch number : 3831 and the loss : 54191.87109375\n",
      "Epoch number : 3841 and the loss : 53048.81640625\n",
      "Epoch number : 3851 and the loss : 55114.328125\n",
      "Epoch number : 3861 and the loss : 55141.65625\n",
      "Epoch number : 3871 and the loss : 52626.64453125\n",
      "Epoch number : 3881 and the loss : 51677.26953125\n",
      "Epoch number : 3891 and the loss : 50214.9375\n",
      "Epoch number : 3901 and the loss : 53270.75390625\n",
      "Epoch number : 3911 and the loss : 52315.94140625\n",
      "Epoch number : 3921 and the loss : 51181.69921875\n",
      "Epoch number : 3931 and the loss : 50443.34765625\n",
      "Epoch number : 3941 and the loss : 50854.390625\n",
      "Epoch number : 3951 and the loss : 49262.73828125\n",
      "Epoch number : 3961 and the loss : 50191.953125\n",
      "Epoch number : 3971 and the loss : 49014.625\n",
      "Epoch number : 3981 and the loss : 48972.1875\n",
      "Epoch number : 3991 and the loss : 53378.5234375\n",
      "Epoch number : 4001 and the loss : 49517.61328125\n",
      "Epoch number : 4011 and the loss : 45708.87890625\n",
      "Epoch number : 4021 and the loss : 48828.8515625\n",
      "Epoch number : 4031 and the loss : 45946.390625\n",
      "Epoch number : 4041 and the loss : 49585.39453125\n",
      "Epoch number : 4051 and the loss : 48318.19140625\n",
      "Epoch number : 4061 and the loss : 44753.515625\n",
      "Epoch number : 4071 and the loss : 46628.02734375\n",
      "Epoch number : 4081 and the loss : 44376.06640625\n",
      "Epoch number : 4091 and the loss : 44983.9453125\n",
      "Epoch number : 4101 and the loss : 44234.37890625\n",
      "Epoch number : 4111 and the loss : 44776.234375\n",
      "Epoch number : 4121 and the loss : 44396.265625\n",
      "Epoch number : 4131 and the loss : 43203.4921875\n",
      "Epoch number : 4141 and the loss : 44985.12109375\n",
      "Epoch number : 4151 and the loss : 44230.328125\n",
      "Epoch number : 4161 and the loss : 42650.21484375\n",
      "Epoch number : 4171 and the loss : 43178.796875\n",
      "Epoch number : 4181 and the loss : 45730.71484375\n",
      "Epoch number : 4191 and the loss : 42154.40234375\n",
      "Epoch number : 4201 and the loss : 41905.1484375\n",
      "Epoch number : 4211 and the loss : 41142.84375\n",
      "Epoch number : 4221 and the loss : 40338.95703125\n",
      "Epoch number : 4231 and the loss : 41381.16015625\n",
      "Epoch number : 4241 and the loss : 40597.98046875\n",
      "Epoch number : 4251 and the loss : 40468.1015625\n",
      "Epoch number : 4261 and the loss : 40163.5390625\n",
      "Epoch number : 4271 and the loss : 41093.4140625\n",
      "Epoch number : 4281 and the loss : 42481.3828125\n",
      "Epoch number : 4291 and the loss : 39275.3203125\n",
      "Epoch number : 4301 and the loss : 41290.05078125\n",
      "Epoch number : 4311 and the loss : 41194.09375\n",
      "Epoch number : 4321 and the loss : 39673.984375\n",
      "Epoch number : 4331 and the loss : 39402.45703125\n",
      "Epoch number : 4341 and the loss : 39351.796875\n",
      "Epoch number : 4351 and the loss : 41426.49609375\n",
      "Epoch number : 4361 and the loss : 40487.3984375\n",
      "Epoch number : 4371 and the loss : 37956.50390625\n",
      "Epoch number : 4381 and the loss : 38218.21484375\n",
      "Epoch number : 4391 and the loss : 36919.21875\n",
      "Epoch number : 4401 and the loss : 36716.9765625\n",
      "Epoch number : 4411 and the loss : 38398.5\n",
      "Epoch number : 4421 and the loss : 39781.53125\n",
      "Epoch number : 4431 and the loss : 37974.71875\n",
      "Epoch number : 4441 and the loss : 37482.66015625\n",
      "Epoch number : 4451 and the loss : 37892.6015625\n",
      "Epoch number : 4461 and the loss : 38594.0859375\n",
      "Epoch number : 4471 and the loss : 37906.0546875\n",
      "Epoch number : 4481 and the loss : 37474.65234375\n",
      "Epoch number : 4491 and the loss : 36272.16796875\n",
      "Epoch number : 4501 and the loss : 37938.0390625\n",
      "Epoch number : 4511 and the loss : 38682.53125\n",
      "Epoch number : 4521 and the loss : 36353.96875\n",
      "Epoch number : 4531 and the loss : 38181.453125\n",
      "Epoch number : 4541 and the loss : 35352.6796875\n",
      "Epoch number : 4551 and the loss : 33994.2421875\n",
      "Epoch number : 4561 and the loss : 37468.96875\n",
      "Epoch number : 4571 and the loss : 38696.9296875\n",
      "Epoch number : 4581 and the loss : 36554.92578125\n",
      "Epoch number : 4591 and the loss : 34014.3515625\n",
      "Epoch number : 4601 and the loss : 36965.65625\n",
      "Epoch number : 4611 and the loss : 35540.828125\n",
      "Epoch number : 4621 and the loss : 35338.4609375\n",
      "Epoch number : 4631 and the loss : 36611.12109375\n",
      "Epoch number : 4641 and the loss : 35249.0234375\n",
      "Epoch number : 4651 and the loss : 34669.9140625\n",
      "Epoch number : 4661 and the loss : 35543.953125\n",
      "Epoch number : 4671 and the loss : 37450.8359375\n",
      "Epoch number : 4681 and the loss : 36903.77734375\n",
      "Epoch number : 4691 and the loss : 42531.08203125\n",
      "Epoch number : 4701 and the loss : 35030.01171875\n",
      "Epoch number : 4711 and the loss : 34616.08984375\n",
      "Epoch number : 4721 and the loss : 34967.18359375\n",
      "Epoch number : 4731 and the loss : 35290.75\n",
      "Epoch number : 4741 and the loss : 34836.5\n",
      "Epoch number : 4751 and the loss : 36579.04296875\n",
      "Epoch number : 4761 and the loss : 34690.36328125\n",
      "Epoch number : 4771 and the loss : 35827.87890625\n",
      "Epoch number : 4781 and the loss : 34224.44140625\n",
      "Epoch number : 4791 and the loss : 35468.08203125\n",
      "Epoch number : 4801 and the loss : 34489.2890625\n",
      "Epoch number : 4811 and the loss : 35293.27734375\n",
      "Epoch number : 4821 and the loss : 35548.9296875\n",
      "Epoch number : 4831 and the loss : 35334.9921875\n",
      "Epoch number : 4841 and the loss : 35106.3125\n",
      "Epoch number : 4851 and the loss : 36617.76953125\n",
      "Epoch number : 4861 and the loss : 36332.55078125\n",
      "Epoch number : 4871 and the loss : 35862.43359375\n",
      "Epoch number : 4881 and the loss : 36890.109375\n",
      "Epoch number : 4891 and the loss : 34504.1640625\n",
      "Epoch number : 4901 and the loss : 35952.6796875\n",
      "Epoch number : 4911 and the loss : 34132.52734375\n",
      "Epoch number : 4921 and the loss : 34879.8359375\n",
      "Epoch number : 4931 and the loss : 36198.64453125\n",
      "Epoch number : 4941 and the loss : 35406.84765625\n",
      "Epoch number : 4951 and the loss : 34243.10546875\n",
      "Epoch number : 4961 and the loss : 35714.21484375\n",
      "Epoch number : 4971 and the loss : 36643.45703125\n",
      "Epoch number : 4981 and the loss : 35083.70703125\n",
      "Epoch number : 4991 and the loss : 34073.671875\n"
     ]
    }
   ],
   "source": [
    "epochs=5000\n",
    "final_losses=[]\n",
    "for i in range(epochs):\n",
    "    i=i+1\n",
    "    y_pred=model(train_categorical,train_cont)\n",
    "    loss=torch.sqrt(loss_function(y_pred,y_train)) ##RMSE\n",
    "    final_losses.append(loss.item())\n",
    "    if i%10==1:\n",
    "        print(\"Epoch number : {} and the loss : {}\".format(i,loss.item()))\n",
    "    optimizer.zero_grad()\n",
    "    loss.backward() ##backpropagation\n",
    "    optimizer.step()"
   ]
  },
  {
   "cell_type": "code",
   "execution_count": 54,
   "id": "d3e8a999-a463-443a-b55e-3e9f2a5785f8",
   "metadata": {},
   "outputs": [
    {
     "data": {
      "image/png": "[encoded data removed]",
      "text/plain": [
       "<Figure size 1200x800 with 1 Axes>"
      ]
     },
     "metadata": {},
     "output_type": "display_data"
    }
   ],
   "source": [
    "import matplotlib.pyplot as plt\n",
    "%matplotlib inline\n",
    "# plt.fill_between(range(epochs), final_losses, alpha=0.3)\n",
    "plt.figure(figsize=(12,8))\n",
    "plt.plot(range(epochs),final_losses)\n",
    "plt.ylabel(\"RMSE Loss\")\n",
    "plt.xlabel(\"epoch\")\n",
    "plt.show()\n",
    "\n"
   ]
  },
  {
   "cell_type": "code",
   "execution_count": 55,
   "id": "039a2c7d-0a00-47df-9161-e5f2f0dd049b",
   "metadata": {},
   "outputs": [
    {
     "name": "stdout",
     "output_type": "stream",
     "text": [
      "RMSE: 51827.828125\n"
     ]
    }
   ],
   "source": [
    "### validate the test data:\n",
    "y_pred=\"\"\n",
    "with torch.no_grad():\n",
    "    y_pred=model(test_categorical,test_cont)\n",
    "    loss=torch.sqrt(loss_function(y_pred,y_test))\n",
    "print(\"RMSE: {}\".format(loss))\n",
    "    "
   ]
  },
  {
   "cell_type": "code",
   "execution_count": 56,
   "id": "ac647e36-29cf-4681-b6ee-acc0467ee856",
   "metadata": {},
   "outputs": [
    {
     "name": "stdout",
     "output_type": "stream",
     "text": [
      "Epoch 100/5000 | Loss: 36062.4648\n",
      "Epoch 200/5000 | Loss: 34129.4766\n",
      "Epoch 300/5000 | Loss: 34477.5078\n",
      "Epoch 400/5000 | Loss: 36509.7695\n",
      "Epoch 500/5000 | Loss: 34544.8516\n",
      "Epoch 600/5000 | Loss: 34045.2852\n",
      "Epoch 700/5000 | Loss: 37265.8516\n",
      "Epoch 800/5000 | Loss: 35834.0039\n",
      "Epoch 900/5000 | Loss: 34893.8008\n",
      "Epoch 1000/5000 | Loss: 34696.6641\n",
      "Epoch 1100/5000 | Loss: 34308.9062\n",
      "Epoch 1200/5000 | Loss: 36119.4375\n",
      "Epoch 1300/5000 | Loss: 34217.9922\n",
      "Epoch 1400/5000 | Loss: 32664.9180\n",
      "Epoch 1500/5000 | Loss: 33351.5703\n",
      "Epoch 1600/5000 | Loss: 33209.5859\n",
      "Epoch 1700/5000 | Loss: 36930.4531\n",
      "Epoch 1800/5000 | Loss: 35896.7734\n",
      "Epoch 1900/5000 | Loss: 33425.6914\n",
      "Epoch 2000/5000 | Loss: 33515.2852\n",
      "Epoch 2100/5000 | Loss: 32947.4141\n",
      "Epoch 2200/5000 | Loss: 34370.3164\n",
      "Epoch 2300/5000 | Loss: 33598.1133\n",
      "Epoch 2400/5000 | Loss: 34013.1016\n",
      "Epoch 2500/5000 | Loss: 32292.3945\n",
      "Epoch 2600/5000 | Loss: 35258.3242\n",
      "Epoch 2700/5000 | Loss: 35038.2617\n",
      "Epoch 2800/5000 | Loss: 34723.3398\n",
      "Epoch 2900/5000 | Loss: 34364.7539\n",
      "Epoch 3000/5000 | Loss: 34592.9102\n",
      "Epoch 3100/5000 | Loss: 33731.7930\n",
      "Epoch 3200/5000 | Loss: 36088.1367\n",
      "Epoch 3300/5000 | Loss: 33467.6445\n",
      "Epoch 3400/5000 | Loss: 34858.6406\n",
      "Epoch 3500/5000 | Loss: 33677.4375\n",
      "Epoch 3600/5000 | Loss: 34419.5859\n",
      "Epoch 3700/5000 | Loss: 34679.2070\n",
      "Epoch 3800/5000 | Loss: 33726.2031\n",
      "Epoch 3900/5000 | Loss: 35264.5078\n",
      "Epoch 4000/5000 | Loss: 32159.2266\n",
      "Epoch 4100/5000 | Loss: 32995.0117\n",
      "Epoch 4200/5000 | Loss: 33651.6523\n",
      "Epoch 4300/5000 | Loss: 33543.2656\n",
      "Epoch 4400/5000 | Loss: 34094.6562\n",
      "Epoch 4500/5000 | Loss: 34311.9766\n",
      "Epoch 4600/5000 | Loss: 34685.3633\n",
      "Epoch 4700/5000 | Loss: 34122.0078\n",
      "Epoch 4800/5000 | Loss: 33887.3320\n",
      "Epoch 4900/5000 | Loss: 34349.3047\n",
      "Epoch 5000/5000 | Loss: 33464.5703\n"
     ]
    }
   ],
   "source": [
    "import torch\n",
    "\n",
    "epochs = 5000\n",
    "final_losses = []\n",
    "\n",
    "# device = torch.device(\"cuda\" if torch.cuda.is_available() else \"cpu\")  # Enable GPU if available\n",
    "\n",
    "train_categorical, train_cont, y_train = train_categorical, train_cont, y_train\n",
    "\n",
    "for epoch in range(1, epochs + 1):  # Start from 1\n",
    "    y_pred = model(train_categorical, train_cont)  # Forward pass\n",
    "    loss = loss_function(y_pred, y_train).sqrt()  # RMSE calculation\n",
    "\n",
    "    final_losses.append(loss.item())  # Store loss efficiently\n",
    "\n",
    "    if epoch % 100 == 0:  # Print every 100 epochs\n",
    "        print(f\"Epoch {epoch}/{epochs} | Loss: {loss.item():.4f}\")\n",
    "\n",
    "    optimizer.zero_grad()  # Zero gradients\n",
    "    loss.backward()  # Backpropagation\n",
    "    optimizer.step()  # Update weights\n"
   ]
  },
  {
   "cell_type": "code",
   "execution_count": 57,
   "id": "90906358-153b-4de9-a641-70a25fa75c76",
   "metadata": {},
   "outputs": [
    {
     "data": {
      "image/png": "[encoded data removed]",
      "text/plain": [
       "<Figure size 1200x800 with 1 Axes>"
      ]
     },
     "metadata": {},
     "output_type": "display_data"
    }
   ],
   "source": [
    "import matplotlib.pyplot as plt\n",
    "%matplotlib inline\n",
    "# plt.fill_between(range(epochs), final_losses, alpha=0.3)\n",
    "plt.figure(figsize=(12,8))\n",
    "plt.plot(range(epochs),final_losses)\n",
    "plt.ylabel(\"RMSE Loss\")\n",
    "plt.xlabel(\"epoch\")\n",
    "plt.show()"
   ]
  },
  {
   "cell_type": "code",
   "execution_count": 58,
   "id": "3d8b280d-c219-40a0-8311-5e032eeb0015",
   "metadata": {},
   "outputs": [
    {
     "name": "stdout",
     "output_type": "stream",
     "text": [
      "RMSE: 45120.99609375\n"
     ]
    }
   ],
   "source": [
    "### validate the test data:\n",
    "y_pred=\"\"\n",
    "with torch.no_grad():\n",
    "    y_pred=model(test_categorical,test_cont)\n",
    "    loss=torch.sqrt(loss_function(y_pred,y_test))\n",
    "print(\"RMSE: {}\".format(loss))\n",
    "    "
   ]
  },
  {
   "cell_type": "code",
   "execution_count": 59,
   "id": "17a2440c-474e-4191-9427-f1d98b53adab",
   "metadata": {},
   "outputs": [],
   "source": [
    "data_verify=pd.DataFrame(y_test.tolist(),columns=[\"Test\"])\n"
   ]
  },
  {
   "cell_type": "code",
   "execution_count": 60,
   "id": "b18a1d53-110b-4ec1-a024-e6974aa3092b",
   "metadata": {},
   "outputs": [],
   "source": [
    "data_predicted=pd.DataFrame(y_pred.tolist(),columns=[\"Prediction\"])"
   ]
  },
  {
   "cell_type": "code",
   "execution_count": 63,
   "id": "cf0e6b3e-3abf-47d3-b656-0af85917214f",
   "metadata": {},
   "outputs": [
    {
     "data": {
      "text/html": [
       "<div>\n",
       "<style scoped>\n",
       "    .dataframe tbody tr th:only-of-type {\n",
       "        vertical-align: middle;\n",
       "    }\n",
       "\n",
       "    .dataframe tbody tr th {\n",
       "        vertical-align: top;\n",
       "    }\n",
       "\n",
       "    .dataframe thead th {\n",
       "        text-align: right;\n",
       "    }\n",
       "</style>\n",
       "<table border=\"1\" class=\"dataframe\">\n",
       "  <thead>\n",
       "    <tr style=\"text-align: right;\">\n",
       "      <th></th>\n",
       "      <th>Test</th>\n",
       "    </tr>\n",
       "  </thead>\n",
       "  <tbody>\n",
       "    <tr>\n",
       "      <th>0</th>\n",
       "      <td>130000.0</td>\n",
       "    </tr>\n",
       "    <tr>\n",
       "      <th>1</th>\n",
       "      <td>138887.0</td>\n",
       "    </tr>\n",
       "    <tr>\n",
       "      <th>2</th>\n",
       "      <td>175500.0</td>\n",
       "    </tr>\n",
       "    <tr>\n",
       "      <th>3</th>\n",
       "      <td>195000.0</td>\n",
       "    </tr>\n",
       "    <tr>\n",
       "      <th>4</th>\n",
       "      <td>142500.0</td>\n",
       "    </tr>\n",
       "  </tbody>\n",
       "</table>\n",
       "</div>"
      ],
      "text/plain": [
       "       Test\n",
       "0  130000.0\n",
       "1  138887.0\n",
       "2  175500.0\n",
       "3  195000.0\n",
       "4  142500.0"
      ]
     },
     "execution_count": 63,
     "metadata": {},
     "output_type": "execute_result"
    }
   ],
   "source": [
    "data_verify.head()"
   ]
  },
  {
   "cell_type": "code",
   "execution_count": 64,
   "id": "daedb637-0104-4de9-9a14-81a8d9b792e9",
   "metadata": {},
   "outputs": [
    {
     "data": {
      "text/html": [
       "<div>\n",
       "<style scoped>\n",
       "    .dataframe tbody tr th:only-of-type {\n",
       "        vertical-align: middle;\n",
       "    }\n",
       "\n",
       "    .dataframe tbody tr th {\n",
       "        vertical-align: top;\n",
       "    }\n",
       "\n",
       "    .dataframe thead th {\n",
       "        text-align: right;\n",
       "    }\n",
       "</style>\n",
       "<table border=\"1\" class=\"dataframe\">\n",
       "  <thead>\n",
       "    <tr style=\"text-align: right;\">\n",
       "      <th></th>\n",
       "      <th>Prediction</th>\n",
       "    </tr>\n",
       "  </thead>\n",
       "  <tbody>\n",
       "    <tr>\n",
       "      <th>175</th>\n",
       "      <td>190318.37500</td>\n",
       "    </tr>\n",
       "    <tr>\n",
       "      <th>176</th>\n",
       "      <td>214057.65625</td>\n",
       "    </tr>\n",
       "    <tr>\n",
       "      <th>177</th>\n",
       "      <td>358384.90625</td>\n",
       "    </tr>\n",
       "    <tr>\n",
       "      <th>178</th>\n",
       "      <td>277761.12500</td>\n",
       "    </tr>\n",
       "    <tr>\n",
       "      <th>179</th>\n",
       "      <td>101695.25000</td>\n",
       "    </tr>\n",
       "  </tbody>\n",
       "</table>\n",
       "</div>"
      ],
      "text/plain": [
       "       Prediction\n",
       "175  190318.37500\n",
       "176  214057.65625\n",
       "177  358384.90625\n",
       "178  277761.12500\n",
       "179  101695.25000"
      ]
     },
     "execution_count": 64,
     "metadata": {},
     "output_type": "execute_result"
    }
   ],
   "source": [
    "data_predicted.tail()"
   ]
  },
  {
   "cell_type": "code",
   "execution_count": 65,
   "id": "f3cb7430-6f14-47fb-a3d5-4031a4d616d7",
   "metadata": {},
   "outputs": [
    {
     "data": {
      "text/html": [
       "<div>\n",
       "<style scoped>\n",
       "    .dataframe tbody tr th:only-of-type {\n",
       "        vertical-align: middle;\n",
       "    }\n",
       "\n",
       "    .dataframe tbody tr th {\n",
       "        vertical-align: top;\n",
       "    }\n",
       "\n",
       "    .dataframe thead th {\n",
       "        text-align: right;\n",
       "    }\n",
       "</style>\n",
       "<table border=\"1\" class=\"dataframe\">\n",
       "  <thead>\n",
       "    <tr style=\"text-align: right;\">\n",
       "      <th></th>\n",
       "      <th>Test</th>\n",
       "      <th>Prediction</th>\n",
       "      <th>Difference</th>\n",
       "    </tr>\n",
       "  </thead>\n",
       "  <tbody>\n",
       "    <tr>\n",
       "      <th>0</th>\n",
       "      <td>130000.0</td>\n",
       "      <td>157837.968750</td>\n",
       "      <td>-27837.968750</td>\n",
       "    </tr>\n",
       "    <tr>\n",
       "      <th>1</th>\n",
       "      <td>138887.0</td>\n",
       "      <td>109063.460938</td>\n",
       "      <td>29823.539062</td>\n",
       "    </tr>\n",
       "    <tr>\n",
       "      <th>2</th>\n",
       "      <td>175500.0</td>\n",
       "      <td>166075.343750</td>\n",
       "      <td>9424.656250</td>\n",
       "    </tr>\n",
       "    <tr>\n",
       "      <th>3</th>\n",
       "      <td>195000.0</td>\n",
       "      <td>219950.812500</td>\n",
       "      <td>-24950.812500</td>\n",
       "    </tr>\n",
       "    <tr>\n",
       "      <th>4</th>\n",
       "      <td>142500.0</td>\n",
       "      <td>171223.015625</td>\n",
       "      <td>-28723.015625</td>\n",
       "    </tr>\n",
       "  </tbody>\n",
       "</table>\n",
       "</div>"
      ],
      "text/plain": [
       "       Test     Prediction    Difference\n",
       "0  130000.0  157837.968750 -27837.968750\n",
       "1  138887.0  109063.460938  29823.539062\n",
       "2  175500.0  166075.343750   9424.656250\n",
       "3  195000.0  219950.812500 -24950.812500\n",
       "4  142500.0  171223.015625 -28723.015625"
      ]
     },
     "execution_count": 65,
     "metadata": {},
     "output_type": "execute_result"
    }
   ],
   "source": [
    "final_output=pd.concat([data_verify,data_predicted],axis=1)\n",
    "final_output[\"Difference\"]=final_output[\"Test\"]-final_output[\"Prediction\"]\n",
    "final_output.head()"
   ]
  },
  {
   "cell_type": "code",
   "execution_count": 66,
   "id": "ef1e3f81-5347-4761-862e-182b148643c2",
   "metadata": {},
   "outputs": [],
   "source": [
    "### saving the model\n",
    "torch.save(model,\"HousePrice.pt\")"
   ]
  },
  {
   "cell_type": "code",
   "execution_count": 67,
   "id": "10185b9f-17b1-424e-bc13-7376740617a7",
   "metadata": {},
   "outputs": [],
   "source": [
    "torch.save(model.state_dict(),\"HouseWeights.pt\")"
   ]
  },
  {
   "cell_type": "code",
   "execution_count": 68,
   "id": "0b1c50f4-2d0f-4e12-9a9a-be507d939e83",
   "metadata": {},
   "outputs": [],
   "source": [
    "### loading the saved model\n",
    "embs_size=[(15,8),(5,3),(2,1),(4,2)]\n",
    "model1=FeedForwardNN(embs_size,5,1,[100,50],p=0.4)"
   ]
  },
  {
   "cell_type": "code",
   "execution_count": 69,
   "id": "3bcfa6ed-c4b6-4a80-b5ad-35d2b4a20100",
   "metadata": {},
   "outputs": [
    {
     "name": "stderr",
     "output_type": "stream",
     "text": [
      "C:\\Users\\anshg\\AppData\\Local\\Temp\\ipykernel_5368\\3955549351.py:1: FutureWarning: You are using `torch.load` with `weights_only=False` (the current default value), which uses the default pickle module implicitly. It is possible to construct malicious pickle data which will execute arbitrary code during unpickling (See https://github.com/pytorch/pytorch/blob/main/SECURITY.md#untrusted-models for more details). In a future release, the default value for `weights_only` will be flipped to `True`. This limits the functions that could be executed during unpickling. Arbitrary objects will no longer be allowed to be loaded via this mode unless they are explicitly allowlisted by the user via `torch.serialization.add_safe_globals`. We recommend you start setting `weights_only=True` for any use case where you don't have full control of the loaded file. Please open an issue on GitHub for any issues related to this experimental feature.\n",
      "  model1.load_state_dict(torch.load(\"HouseWeights.pt\"))\n"
     ]
    },
    {
     "data": {
      "text/plain": [
       "<All keys matched successfully>"
      ]
     },
     "execution_count": 69,
     "metadata": {},
     "output_type": "execute_result"
    }
   ],
   "source": [
    "model1.load_state_dict(torch.load(\"HouseWeights.pt\"))"
   ]
  },
  {
   "cell_type": "code",
   "execution_count": 70,
   "id": "43b8bfad-bbb5-44fa-92e1-c3a5fd70aa33",
   "metadata": {},
   "outputs": [
    {
     "data": {
      "text/plain": [
       "FeedForwardNN(\n",
       "  (embeds): ModuleList(\n",
       "    (0): Embedding(15, 8)\n",
       "    (1): Embedding(5, 3)\n",
       "    (2): Embedding(2, 1)\n",
       "    (3): Embedding(4, 2)\n",
       "  )\n",
       "  (emb_drop): Dropout(p=0.4, inplace=False)\n",
       "  (bn_cont): BatchNorm1d(5, eps=1e-05, momentum=0.1, affine=True, track_running_stats=True)\n",
       "  (layers): Sequential(\n",
       "    (0): Linear(in_features=19, out_features=100, bias=True)\n",
       "    (1): ReLU(inplace=True)\n",
       "    (2): BatchNorm1d(100, eps=1e-05, momentum=0.1, affine=True, track_running_stats=True)\n",
       "    (3): Dropout(p=0.4, inplace=False)\n",
       "    (4): Linear(in_features=100, out_features=50, bias=True)\n",
       "    (5): ReLU(inplace=True)\n",
       "    (6): BatchNorm1d(50, eps=1e-05, momentum=0.1, affine=True, track_running_stats=True)\n",
       "    (7): Dropout(p=0.4, inplace=False)\n",
       "    (8): Linear(in_features=50, out_features=1, bias=True)\n",
       "  )\n",
       ")"
      ]
     },
     "execution_count": 70,
     "metadata": {},
     "output_type": "execute_result"
    }
   ],
   "source": [
    "model1.eval()"
   ]
  },
  {
   "cell_type": "code",
   "execution_count": null,
   "id": "4f6ad979-60db-4604-aa81-88868702e18f",
   "metadata": {},
   "outputs": [],
   "source": []
  }
 ],
 "metadata": {
  "kernelspec": {
   "display_name": "Python 3 (ipykernel)",
   "language": "python",
   "name": "python3"
  },
  "language_info": {
   "codemirror_mode": {
    "name": "ipython",
    "version": 3
   },
   "file_extension": ".py",
   "mimetype": "text/x-python",
   "name": "python",
   "nbconvert_exporter": "python",
   "pygments_lexer": "ipython3",
   "version": "3.12.8"
  }
 },
 "nbformat": 4,
 "nbformat_minor": 5
}
